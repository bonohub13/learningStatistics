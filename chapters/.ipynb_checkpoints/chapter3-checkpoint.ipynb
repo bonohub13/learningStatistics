{
 "cells": [
  {
   "cell_type": "markdown",
   "id": "53aa4ffe",
   "metadata": {},
   "source": [
    "# 3章 2次元データの整理"
   ]
  },
  {
   "cell_type": "code",
   "execution_count": 1,
   "id": "ddf7e3ff",
   "metadata": {},
   "outputs": [],
   "source": [
    "import numpy as np\n",
    "import pandas as pd\n",
    "\n",
    "%precision 3\n",
    "pd.set_option(\"precision\", 3)"
   ]
  },
  {
   "cell_type": "code",
   "execution_count": 2,
   "id": "ebd754b7",
   "metadata": {},
   "outputs": [],
   "source": [
    "df = pd.read_csv(\"../python_stat_sample/data/ch2_scores_em.csv\", index_col=\"生徒番号\")\n",
    "en_scores = np.array(df[\"英語\"])[:10]\n",
    "ma_scores = np.array(df[\"数学\"])[:10]"
   ]
  },
  {
   "cell_type": "code",
   "execution_count": 3,
   "id": "40799f9f",
   "metadata": {},
   "outputs": [
    {
     "data": {
      "text/html": [
       "<div>\n",
       "<style scoped>\n",
       "    .dataframe tbody tr th:only-of-type {\n",
       "        vertical-align: middle;\n",
       "    }\n",
       "\n",
       "    .dataframe tbody tr th {\n",
       "        vertical-align: top;\n",
       "    }\n",
       "\n",
       "    .dataframe thead th {\n",
       "        text-align: right;\n",
       "    }\n",
       "</style>\n",
       "<table border=\"1\" class=\"dataframe\">\n",
       "  <thead>\n",
       "    <tr style=\"text-align: right;\">\n",
       "      <th></th>\n",
       "      <th>英語</th>\n",
       "      <th>数学</th>\n",
       "    </tr>\n",
       "  </thead>\n",
       "  <tbody>\n",
       "    <tr>\n",
       "      <th>A</th>\n",
       "      <td>42</td>\n",
       "      <td>65</td>\n",
       "    </tr>\n",
       "    <tr>\n",
       "      <th>B</th>\n",
       "      <td>69</td>\n",
       "      <td>80</td>\n",
       "    </tr>\n",
       "    <tr>\n",
       "      <th>C</th>\n",
       "      <td>56</td>\n",
       "      <td>63</td>\n",
       "    </tr>\n",
       "    <tr>\n",
       "      <th>D</th>\n",
       "      <td>41</td>\n",
       "      <td>63</td>\n",
       "    </tr>\n",
       "    <tr>\n",
       "      <th>E</th>\n",
       "      <td>57</td>\n",
       "      <td>76</td>\n",
       "    </tr>\n",
       "    <tr>\n",
       "      <th>F</th>\n",
       "      <td>48</td>\n",
       "      <td>60</td>\n",
       "    </tr>\n",
       "    <tr>\n",
       "      <th>G</th>\n",
       "      <td>65</td>\n",
       "      <td>81</td>\n",
       "    </tr>\n",
       "    <tr>\n",
       "      <th>H</th>\n",
       "      <td>49</td>\n",
       "      <td>66</td>\n",
       "    </tr>\n",
       "    <tr>\n",
       "      <th>I</th>\n",
       "      <td>65</td>\n",
       "      <td>78</td>\n",
       "    </tr>\n",
       "    <tr>\n",
       "      <th>J</th>\n",
       "      <td>58</td>\n",
       "      <td>82</td>\n",
       "    </tr>\n",
       "  </tbody>\n",
       "</table>\n",
       "</div>"
      ],
      "text/plain": [
       "   英語  数学\n",
       "A  42  65\n",
       "B  69  80\n",
       "C  56  63\n",
       "D  41  63\n",
       "E  57  76\n",
       "F  48  60\n",
       "G  65  81\n",
       "H  49  66\n",
       "I  65  78\n",
       "J  58  82"
      ]
     },
     "execution_count": 3,
     "metadata": {},
     "output_type": "execute_result"
    }
   ],
   "source": [
    "scores_df = pd.DataFrame({\"英語\": en_scores, \"数学\": ma_scores}, \n",
    "                         index=pd.Index([chr(ord('A')+i) for i in range(10)]))\n",
    "scores_df"
   ]
  },
  {
   "cell_type": "markdown",
   "id": "ce200d42",
   "metadata": {},
   "source": [
    "- - -\n",
    "\n",
    "## 2つのデータの関係性の指標\n",
    "\n",
    "- 正の相関\n",
    "    - 片方のデータが上下に変動した際に, もう片方のデータも似たように上下に変動する関係性をもつこと\n",
    "- 負の相関\n",
    "    - 片方のデータが上下に変動した際に, もう片方のデータは逆に変動する関係性をもつこと\n",
    "- 無相関\n",
    "    - 片方のデータが上下に変動しても, もう片方のデータに影響を及ぼさない関係性をもつこと\n",
    "    \n",
    "- - -\n",
    "\n",
    "### 共分散\n",
    "2つのデータが互いにどのような関係性 (相関) をもっているかを表す際に用いられる"
   ]
  },
  {
   "cell_type": "code",
   "execution_count": 4,
   "id": "ffcd620c",
   "metadata": {},
   "outputs": [
    {
     "data": {
      "text/html": [
       "<div>\n",
       "<style scoped>\n",
       "    .dataframe tbody tr th:only-of-type {\n",
       "        vertical-align: middle;\n",
       "    }\n",
       "\n",
       "    .dataframe tbody tr th {\n",
       "        vertical-align: top;\n",
       "    }\n",
       "\n",
       "    .dataframe thead th {\n",
       "        text-align: right;\n",
       "    }\n",
       "</style>\n",
       "<table border=\"1\" class=\"dataframe\">\n",
       "  <thead>\n",
       "    <tr style=\"text-align: right;\">\n",
       "      <th></th>\n",
       "      <th>英語</th>\n",
       "      <th>数学</th>\n",
       "      <th>英語の偏差</th>\n",
       "      <th>数学の偏差</th>\n",
       "      <th>偏差同士の積</th>\n",
       "    </tr>\n",
       "  </thead>\n",
       "  <tbody>\n",
       "    <tr>\n",
       "      <th>A</th>\n",
       "      <td>42</td>\n",
       "      <td>65</td>\n",
       "      <td>-13.0</td>\n",
       "      <td>-6.4</td>\n",
       "      <td>83.2</td>\n",
       "    </tr>\n",
       "    <tr>\n",
       "      <th>B</th>\n",
       "      <td>69</td>\n",
       "      <td>80</td>\n",
       "      <td>14.0</td>\n",
       "      <td>8.6</td>\n",
       "      <td>120.4</td>\n",
       "    </tr>\n",
       "    <tr>\n",
       "      <th>C</th>\n",
       "      <td>56</td>\n",
       "      <td>63</td>\n",
       "      <td>1.0</td>\n",
       "      <td>-8.4</td>\n",
       "      <td>-8.4</td>\n",
       "    </tr>\n",
       "    <tr>\n",
       "      <th>D</th>\n",
       "      <td>41</td>\n",
       "      <td>63</td>\n",
       "      <td>-14.0</td>\n",
       "      <td>-8.4</td>\n",
       "      <td>117.6</td>\n",
       "    </tr>\n",
       "    <tr>\n",
       "      <th>E</th>\n",
       "      <td>57</td>\n",
       "      <td>76</td>\n",
       "      <td>2.0</td>\n",
       "      <td>4.6</td>\n",
       "      <td>9.2</td>\n",
       "    </tr>\n",
       "    <tr>\n",
       "      <th>F</th>\n",
       "      <td>48</td>\n",
       "      <td>60</td>\n",
       "      <td>-7.0</td>\n",
       "      <td>-11.4</td>\n",
       "      <td>79.8</td>\n",
       "    </tr>\n",
       "    <tr>\n",
       "      <th>G</th>\n",
       "      <td>65</td>\n",
       "      <td>81</td>\n",
       "      <td>10.0</td>\n",
       "      <td>9.6</td>\n",
       "      <td>96.0</td>\n",
       "    </tr>\n",
       "    <tr>\n",
       "      <th>H</th>\n",
       "      <td>49</td>\n",
       "      <td>66</td>\n",
       "      <td>-6.0</td>\n",
       "      <td>-5.4</td>\n",
       "      <td>32.4</td>\n",
       "    </tr>\n",
       "    <tr>\n",
       "      <th>I</th>\n",
       "      <td>65</td>\n",
       "      <td>78</td>\n",
       "      <td>10.0</td>\n",
       "      <td>6.6</td>\n",
       "      <td>66.0</td>\n",
       "    </tr>\n",
       "    <tr>\n",
       "      <th>J</th>\n",
       "      <td>58</td>\n",
       "      <td>82</td>\n",
       "      <td>3.0</td>\n",
       "      <td>10.6</td>\n",
       "      <td>31.8</td>\n",
       "    </tr>\n",
       "  </tbody>\n",
       "</table>\n",
       "</div>"
      ],
      "text/plain": [
       "   英語  数学  英語の偏差  数学の偏差  偏差同士の積\n",
       "A  42  65  -13.0   -6.4    83.2\n",
       "B  69  80   14.0    8.6   120.4\n",
       "C  56  63    1.0   -8.4    -8.4\n",
       "D  41  63  -14.0   -8.4   117.6\n",
       "E  57  76    2.0    4.6     9.2\n",
       "F  48  60   -7.0  -11.4    79.8\n",
       "G  65  81   10.0    9.6    96.0\n",
       "H  49  66   -6.0   -5.4    32.4\n",
       "I  65  78   10.0    6.6    66.0\n",
       "J  58  82    3.0   10.6    31.8"
      ]
     },
     "execution_count": 4,
     "metadata": {},
     "output_type": "execute_result"
    }
   ],
   "source": [
    "summary_df = scores_df.copy()\n",
    "summary_df[\"英語の偏差\"] = summary_df[\"英語\"] - summary_df[\"英語\"].mean()\n",
    "summary_df[\"数学の偏差\"] = summary_df[\"数学\"] - summary_df[\"数学\"].mean()\n",
    "summary_df[\"偏差同士の積\"] = summary_df[\"英語の偏差\"] * summary_df[\"数学の偏差\"]\n",
    "summary_df"
   ]
  },
  {
   "cell_type": "code",
   "execution_count": 5,
   "id": "740ea2c9",
   "metadata": {},
   "outputs": [
    {
     "data": {
      "text/plain": [
       "62.8"
      ]
     },
     "execution_count": 5,
     "metadata": {},
     "output_type": "execute_result"
    }
   ],
   "source": [
    "summary_df[\"偏差同士の積\"].mean()"
   ]
  },
  {
   "cell_type": "markdown",
   "id": "87f8eed4",
   "metadata": {},
   "source": [
    "これらから英語の点数と数学の点数は正の相関をもっているといえる。\n",
    "\n",
    "共分散の式: \n",
    "\n",
    "\\begin{align*}\n",
    "S_{xy} = \\frac{1}{n}\\sum^{n}_{i=1}(x_i - \\bar{x})(y_i - \\bar{y}) \\\\\n",
    "       = \\frac{1}{n}{(x_1 - \\bar{x})(y_1 - \\bar{y}) + (x_2 - \\bar{x})(y_2 - \\bar{y})+ \\dots +(x_n - \\bar{x})(y_n - \\bar{y})}\n",
    "\\end{align*}\n",
    "\n",
    "Numpyの場合, 共分散はcov関数を用いることで求められる。しかし, 返り値は共分散ではなく__共分散行列 (covariance matrix)__または__分散共分散行列 (variance-covariance matrix)__という行列になってしまうことを留意する必要がある。"
   ]
  },
  {
   "cell_type": "code",
   "execution_count": 6,
   "id": "6f80ba3e",
   "metadata": {},
   "outputs": [
    {
     "data": {
      "text/plain": [
       "array([[86.  , 62.8 ],\n",
       "       [62.8 , 68.44]])"
      ]
     },
     "execution_count": 6,
     "metadata": {},
     "output_type": "execute_result"
    }
   ],
   "source": [
    "cov_mat = np.cov(en_scores, ma_scores, ddof=0)\n",
    "cov_mat"
   ]
  },
  {
   "cell_type": "code",
   "execution_count": 7,
   "id": "3c49149c",
   "metadata": {},
   "outputs": [
    {
     "data": {
      "text/plain": [
       "(86.0, 68.44000000000001)"
      ]
     },
     "execution_count": 7,
     "metadata": {},
     "output_type": "execute_result"
    }
   ],
   "source": [
    "np.var(en_scores, ddof=0), np.var(ma_scores, ddof=0)"
   ]
  },
  {
   "cell_type": "markdown",
   "id": "20d4540c",
   "metadata": {},
   "source": [
    "- - -\n",
    "\n",
    "### 相関係数\n",
    "\n",
    "単位に依存しない相関を表す指標。\n",
    "- 相関係数 (correlation coefficient)\n",
    "    - 必ず-1から1の間をとる\n",
    "    - データが正の相関をもつほど1に近づく\n",
    "    - 逆に負の相関をもつほど-1に近づく\n",
    "    - 無相関であれば0になる\n",
    "    - また, -1か1であれば完全に直線上のデータになる\n",
    "\n",
    "\\begin{align*}\n",
    "r_{xy} = \\frac{S_{xy}}{S_xS_y} \\\\\n",
    "= \\frac{1}{n}\\sum^{n}_{i=1} (\\frac{x_i - \\bar{x}}{S_x})({\\frac{y_i - \\bar{y}}{S_y}})\n",
    "\\end{align*}"
   ]
  },
  {
   "cell_type": "code",
   "execution_count": 8,
   "id": "b7d4e4fd",
   "metadata": {},
   "outputs": [
    {
     "data": {
      "text/plain": [
       "0.8185692341186713"
      ]
     },
     "execution_count": 8,
     "metadata": {},
     "output_type": "execute_result"
    }
   ],
   "source": [
    "np.cov(en_scores, ma_scores, ddof=0)[0, 1] / (np.std(en_scores) * np.std(ma_scores))"
   ]
  },
  {
   "cell_type": "code",
   "execution_count": 9,
   "id": "7adbfa30",
   "metadata": {},
   "outputs": [
    {
     "data": {
      "text/plain": [
       "array([[1.   , 0.819],\n",
       "       [0.819, 1.   ]])"
      ]
     },
     "execution_count": 9,
     "metadata": {},
     "output_type": "execute_result"
    }
   ],
   "source": [
    "np.corrcoef(en_scores, ma_scores)"
   ]
  },
  {
   "cell_type": "code",
   "execution_count": 10,
   "id": "1464213a",
   "metadata": {},
   "outputs": [
    {
     "data": {
      "text/html": [
       "<div>\n",
       "<style scoped>\n",
       "    .dataframe tbody tr th:only-of-type {\n",
       "        vertical-align: middle;\n",
       "    }\n",
       "\n",
       "    .dataframe tbody tr th {\n",
       "        vertical-align: top;\n",
       "    }\n",
       "\n",
       "    .dataframe thead th {\n",
       "        text-align: right;\n",
       "    }\n",
       "</style>\n",
       "<table border=\"1\" class=\"dataframe\">\n",
       "  <thead>\n",
       "    <tr style=\"text-align: right;\">\n",
       "      <th></th>\n",
       "      <th>英語</th>\n",
       "      <th>数学</th>\n",
       "    </tr>\n",
       "  </thead>\n",
       "  <tbody>\n",
       "    <tr>\n",
       "      <th>英語</th>\n",
       "      <td>1.000</td>\n",
       "      <td>0.819</td>\n",
       "    </tr>\n",
       "    <tr>\n",
       "      <th>数学</th>\n",
       "      <td>0.819</td>\n",
       "      <td>1.000</td>\n",
       "    </tr>\n",
       "  </tbody>\n",
       "</table>\n",
       "</div>"
      ],
      "text/plain": [
       "       英語     数学\n",
       "英語  1.000  0.819\n",
       "数学  0.819  1.000"
      ]
     },
     "execution_count": 10,
     "metadata": {},
     "output_type": "execute_result"
    }
   ],
   "source": [
    "scores_df.corr()"
   ]
  },
  {
   "cell_type": "markdown",
   "id": "760f9f07",
   "metadata": {},
   "source": [
    "- - -\n",
    "\n",
    "## 2次元データの視覚化"
   ]
  },
  {
   "cell_type": "code",
   "execution_count": 11,
   "id": "ee27e1fd",
   "metadata": {},
   "outputs": [],
   "source": [
    "import matplotlib.pyplot as plt\n",
    "%matplotlib inline"
   ]
  },
  {
   "cell_type": "markdown",
   "id": "87787713",
   "metadata": {},
   "source": [
    "- - -\n",
    "\n",
    "### 散布図"
   ]
  },
  {
   "cell_type": "code",
   "execution_count": 13,
   "id": "e6f8ab7a",
   "metadata": {},
   "outputs": [
    {
     "data": {
      "image/png": "[encoded data removed]",
      "text/plain": [
       "<Figure size 576x576 with 1 Axes>"
      ]
     },
     "metadata": {
      "needs_background": "light"
     },
     "output_type": "display_data"
    }
   ],
   "source": [
    "english_scores = np.array(df[\"英語\"])\n",
    "math_scores = np.array(df[\"数学\"])\n",
    "\n",
    "fig = plt.figure(figsize=(8, 8))\n",
    "ax = fig.add_subplot(111)\n",
    "ax.scatter(english_scores, math_scores)\n",
    "ax.set_xlabel(\"英語\")\n",
    "ax.set_ylabel(\"数学\")\n",
    "plt.show()"
   ]
  },
  {
   "cell_type": "markdown",
   "id": "04f94b83",
   "metadata": {},
   "source": [
    "散布図から英語の点数が高い人ほど, 数学の点数が高いという傾向がありそうに見える。\n",
    "\n",
    "- - -\n",
    "\n",
    "### 回帰直線\n",
    "\n",
    "__回帰直線 (regression line)__は2つのデータ間の関係性をもっともよく表現する直線である。<br/>\n",
    "Matplotlibには回帰直線を直線描画するメソッドがないため, ここではNumpyを用いて回帰直線を求める。"
   ]
  },
  {
   "cell_type": "code",
   "execution_count": 20,
   "id": "4796056f",
   "metadata": {},
   "outputs": [
    {
     "data": {
      "image/png": "[encoded data removed]",
      "text/plain": [
       "<Figure size 576x576 with 1 Axes>"
      ]
     },
     "metadata": {
      "needs_background": "light"
     },
     "output_type": "display_data"
    }
   ],
   "source": [
    "poly_fit = np.polyfit(english_scores, math_scores, 1)\n",
    "poly_1d = np.poly1d(poly_fit)\n",
    "xs = np.linspace(english_scores.min(), english_scores.max())\n",
    "ys = poly_1d(xs)\n",
    "\n",
    "fig = plt.figure(figsize=(8, 8))\n",
    "ax = fig.add_subplot(111)\n",
    "ax.set_xlabel(\"英語\")\n",
    "ax.set_ylabel(\"数学\")\n",
    "ax.scatter(english_scores, math_scores, label=\"点数\")\n",
    "ax.plot(xs, ys, color=\"gray\", label=f'{poly_fit[1]:.2f}+{poly_fit[0]:.2f}x')\n",
    "ax.legend(loc=\"upper left\")\n",
    "plt.show()"
   ]
  },
  {
   "cell_type": "markdown",
   "id": "2750224c",
   "metadata": {},
   "source": [
    "- - -\n",
    "\n",
    "### ヒートマップ\n",
    "\n",
    "ヒストグラムの2次元版を色によって表すことができるグラフ"
   ]
  },
  {
   "cell_type": "code",
   "execution_count": 21,
   "id": "c99db27d",
   "metadata": {},
   "outputs": [
    {
     "data": {
      "image/png": "[encoded data removed]",
      "text/plain": [
       "<Figure size 720x576 with 2 Axes>"
      ]
     },
     "metadata": {
      "needs_background": "light"
     },
     "output_type": "display_data"
    }
   ],
   "source": [
    "fig = plt.figure(figsize=(10, 8))\n",
    "ax = fig.add_subplot(111)\n",
    "\n",
    "c = ax.hist2d(english_scores, math_scores, bins=[9, 8], range=[(35, 80), (55, 95)])\n",
    "\n",
    "ax.set_xticks(c[1]) # 英語\n",
    "ax.set_yticks(c[2]) # 数学\n",
    "\n",
    "fig.colorbar(c[3], ax=ax)\n",
    "plt.show()"
   ]
  },
  {
   "cell_type": "markdown",
   "id": "a3b5c3bd",
   "metadata": {},
   "source": [
    "このことから英語の点数が55〜60点でかつ数学の点数が80〜85点の人がもっとも多いことがわかる"
   ]
  }
 ],
 "metadata": {
  "jupytext": {
   "encoding": "# -*- coding: utf-8 -*-",
   "text_representation": {
    "extension": ".py",
    "format_name": "light",
    "format_version": "1.5",
    "jupytext_version": "1.11.1"
   }
  },
  "kernelspec": {
   "display_name": "Python 3",
   "language": "python",
   "name": "python3"
  },
  "language_info": {
   "codemirror_mode": {
    "name": "ipython",
    "version": 3
   },
   "file_extension": ".py",
   "mimetype": "text/x-python",
   "name": "python",
   "nbconvert_exporter": "python",
   "pygments_lexer": "ipython3",
   "version": "3.9.4"
  }
 },
 "nbformat": 4,
 "nbformat_minor": 5
}
